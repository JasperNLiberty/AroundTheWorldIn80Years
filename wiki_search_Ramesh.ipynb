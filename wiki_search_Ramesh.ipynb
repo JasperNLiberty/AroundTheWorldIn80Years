{
 "cells": [
  {
   "cell_type": "code",
   "execution_count": 40,
   "metadata": {
    "collapsed": false
   },
   "outputs": [
    {
     "data": {
      "text/plain": [
       "'Lonely Planet is the largest travel guide book publisher in the world. The company is owned by American billionaire Brad Kelley\\'s NC2 Media, which bought it in 2013 from BBC Worldwide for US$77 million (the equivalent of 45.5 million in May 2014) after it was valued at US$250 million in 2008. Originally called \"Lonely Planet Publications\", the company changed its name to \"Lonely Planet\" in July 2009 to reflect its broad travel industry coverage and an emphasis on digital products. After the Let\\'s Go travel guide series that was founded in 1960, the Lonely Planet books were the second series of travel books aimed at backpackers and other low-cost travellers. As of 2011, the company had sold 120 million books since inception and by early 2014, it had sold around 11 million units of its travel apps. As of 2014, Lonely Planet\\'s largest office is located in Footscray, a suburb of Melbourne, Australia, but its Franklin, Tennessee, United States (U.S.) office is the company\\'s de facto headquarters. Other Lonely Planet offices are spread throughout the world, in locations such as London, United Kingdom (U.K.); Beijing, China; and Delhi, India.  '"
      ]
     },
     "execution_count": 40,
     "metadata": {},
     "output_type": "execute_result"
    }
   ],
   "source": [
    "from features.wiki_fns import wiki_search\n",
    "\n",
    "wiki_search('lonely planet')"
   ]
  },
  {
   "cell_type": "code",
   "execution_count": 24,
   "metadata": {
    "collapsed": true
   },
   "outputs": [],
   "source": [
    "import pandas as pd\n",
    "from pymongo import MongoClient\n",
    "import requests\n",
    "from bs4 import BeautifulSoup"
   ]
  },
  {
   "cell_type": "code",
   "execution_count": 25,
   "metadata": {
    "collapsed": true
   },
   "outputs": [],
   "source": [
    "client = MongoClient()"
   ]
  },
  {
   "cell_type": "code",
   "execution_count": 26,
   "metadata": {
    "collapsed": true
   },
   "outputs": [],
   "source": [
    "db = client.get_database(\"anything\")"
   ]
  },
  {
   "cell_type": "code",
   "execution_count": 5,
   "metadata": {
    "collapsed": true
   },
   "outputs": [],
   "source": [
    "resp = requests.get(\"http://www.hillmanwonders.com/top_1000/\")"
   ]
  },
  {
   "cell_type": "code",
   "execution_count": 7,
   "metadata": {
    "collapsed": false
   },
   "outputs": [],
   "source": [
    "soup = BeautifulSoup(resp.content, \"lxml\")"
   ]
  },
  {
   "cell_type": "code",
   "execution_count": 11,
   "metadata": {
    "collapsed": false
   },
   "outputs": [],
   "source": [
    "trs = soup.find(\"div\", id=\"EdColumn\").find(\"table\").find_all(\"tr\")"
   ]
  },
  {
   "cell_type": "code",
   "execution_count": 35,
   "metadata": {
    "collapsed": false
   },
   "outputs": [],
   "source": [
    "for tr in trs:\n",
    "    tds = tr.find_all(\"td\")\n",
    "    country_td, names_td = tds[0], tds[1]\n",
    "    data = {\n",
    "            \"country\": country_td.get_text(),\n",
    "            \"name\": names_td.get_text().strip().split(\"\\n\")\n",
    "        }\n",
    "    db.new_col.insert_one(data)"
   ]
  },
  {
   "cell_type": "code",
   "execution_count": 36,
   "metadata": {
    "collapsed": false
   },
   "outputs": [
    {
     "data": {
      "text/html": [
       "<div>\n",
       "<table border=\"1\" class=\"dataframe\">\n",
       "  <thead>\n",
       "    <tr style=\"text-align: right;\">\n",
       "      <th></th>\n",
       "      <th>_id</th>\n",
       "      <th>country</th>\n",
       "      <th>name</th>\n",
       "    </tr>\n",
       "  </thead>\n",
       "  <tbody>\n",
       "    <tr>\n",
       "      <th>0</th>\n",
       "      <td>581bc6fdc527d56f4950379c</td>\n",
       "      <td>Covered in\\nmy other lists</td>\n",
       "      <td></td>\n",
       "    </tr>\n",
       "  </tbody>\n",
       "</table>\n",
       "</div>"
      ],
      "text/plain": [
       "                        _id                     country name\n",
       "0  581bc6fdc527d56f4950379c  Covered in\\nmy other lists     "
      ]
     },
     "execution_count": 36,
     "metadata": {},
     "output_type": "execute_result"
    }
   ],
   "source": [
    "pd.DataFrame(data)"
   ]
  },
  {
   "cell_type": "code",
   "execution_count": 41,
   "metadata": {
    "collapsed": true
   },
   "outputs": [],
   "source": [
    "import requests\n",
    "import json\n",
    "import re\n",
    "\n",
    "def wiki_extract(select_topic):\n",
    "    try:\n",
    "        url = 'https://en.wikipedia.org/w/api.php?action=query&prop=extracts&exintro=&explaintext=&titles='+select_topic+'&format=json'\n",
    "\n",
    "        response = requests.get(url)\n",
    "        jtext = response.text\n",
    "\n",
    "        jobj = json.loads(jtext)\n",
    "        s = jobj['query']['pages'][jobj['query']['pages'].keys()[0]]['extract']\n",
    "        s = s.encode('ascii','ignore')\n",
    "\n",
    "        s = re.sub('\\\\n', ' ', s) # remove \\n\n",
    "        return s\n",
    "    except:\n",
    "        return -1\n",
    "\n",
    "def wiki_search(search_term):\n",
    "\n",
    "    url = 'https://en.wikipedia.org/w/api.php?action=query&list=search&srsearch='+search_term+'&prop=extracts&exintro=&explaintext=&format=json'\n",
    "    response = requests.get(url)\n",
    "    jtext = response.text\n",
    "    jobk = json.loads(jtext)\n",
    "\n",
    "    i = 0\n",
    "    while i<10:\n",
    "        exact_title = str(jobk['query']['search'][i]['title'].encode('utf-8'))\n",
    "        if 'disambiguation' in exact_title:\n",
    "            i += 1\n",
    "        elif 'refer' in wiki_extract(exact_title)[0:50]:\n",
    "            i += 1\n",
    "        else:\n",
    "            break\n",
    "\n",
    "    return wiki_extract(exact_title)\n"
   ]
  },
  {
   "cell_type": "code",
   "execution_count": 48,
   "metadata": {
    "collapsed": true
   },
   "outputs": [],
   "source": [
    "search_term = 'Holfburg Palace'\n",
    "url = 'https://en.wikipedia.org/w/api.php?action=query&list=search&srsearch='+search_term+'&prop=extracts&exintro=&explaintext=&format=json'\n",
    "response = requests.get(url)\n",
    "jtext = response.text\n",
    "jobk = json.loads(jtext)\n"
   ]
  },
  {
   "cell_type": "code",
   "execution_count": 49,
   "metadata": {
    "collapsed": false
   },
   "outputs": [
    {
     "data": {
      "text/plain": [
       "u'{\"batchcomplete\":\"\",\"query\":{\"searchinfo\":{\"totalhits\":0,\"suggestion\":\"hofburg palace\",\"suggestionsnippet\":\"<em>hofburg</em> palace\"},\"search\":[]}}'"
      ]
     },
     "execution_count": 49,
     "metadata": {},
     "output_type": "execute_result"
    }
   ],
   "source": [
    "jtext"
   ]
  },
  {
   "cell_type": "code",
   "execution_count": 50,
   "metadata": {
    "collapsed": false
   },
   "outputs": [
    {
     "data": {
      "text/plain": [
       "'https://en.wikipedia.org/w/api.php?action=query&list=search&srsearch=Holfburg Palace&prop=extracts&exintro=&explaintext=&format=json'"
      ]
     },
     "execution_count": 50,
     "metadata": {},
     "output_type": "execute_result"
    }
   ],
   "source": [
    "url"
   ]
  },
  {
   "cell_type": "code",
   "execution_count": null,
   "metadata": {
    "collapsed": true
   },
   "outputs": [],
   "source": []
  }
 ],
 "metadata": {
  "anaconda-cloud": {},
  "kernelspec": {
   "display_name": "Python [Root]",
   "language": "python",
   "name": "Python [Root]"
  },
  "language_info": {
   "codemirror_mode": {
    "name": "ipython",
    "version": 2
   },
   "file_extension": ".py",
   "mimetype": "text/x-python",
   "name": "python",
   "nbconvert_exporter": "python",
   "pygments_lexer": "ipython2",
   "version": "2.7.12"
  }
 },
 "nbformat": 4,
 "nbformat_minor": 0
}
