{
 "cells": [
  {
   "cell_type": "code",
   "execution_count": 9,
   "metadata": {
    "collapsed": false
   },
   "outputs": [
    {
     "data": {
      "text/plain": [
       "Collection(Database(MongoClient(host=['localhost:27017'], document_class=dict, tz_aware=False, connect=True), u'attractions'), u'result')"
      ]
     },
     "execution_count": 9,
     "metadata": {},
     "output_type": "execute_result"
    }
   ],
   "source": [
    "from pymongo import MongoClient\n",
    "\n",
    "client = MongoClient()\n",
    "\n",
    "db = client.get_database(\"attractions\")\n",
    "\n",
    "db.get_collection('result')"
   ]
  },
  {
   "cell_type": "code",
   "execution_count": 10,
   "metadata": {
    "collapsed": false
   },
   "outputs": [
    {
     "data": {
      "text/plain": [
       "<pymongo.cursor.Cursor at 0x113d748d0>"
      ]
     },
     "execution_count": 10,
     "metadata": {},
     "output_type": "execute_result"
    }
   ],
   "source": [
    "db.result.find(projection={'location':1, \"details\": 1, \"_id\": 0})"
   ]
  },
  {
   "cell_type": "code",
   "execution_count": 57,
   "metadata": {
    "collapsed": false
   },
   "outputs": [],
   "source": [
    "def counter(max_count):\n",
    "    i = 0\n",
    "    while True:\n",
    "        i = i + 1\n",
    "        if i > max_count:\n",
    "            break\n",
    "        yield i\n",
    "\n",
    "my_counter = counter(20)\n",
    "\n",
    "my_counter"
   ]
  },
  {
   "cell_type": "code",
   "execution_count": 13,
   "metadata": {
    "collapsed": false
   },
   "outputs": [],
   "source": [
    "items = list(db.result.find(projection={'location':1, \"details\": 1, \"_id\": 0}))"
   ]
  },
  {
   "cell_type": "code",
   "execution_count": 14,
   "metadata": {
    "collapsed": false
   },
   "outputs": [
    {
     "data": {
      "text/plain": [
       "0"
      ]
     },
     "execution_count": 14,
     "metadata": {},
     "output_type": "execute_result"
    }
   ],
   "source": [
    "len(items)"
   ]
  },
  {
   "cell_type": "code",
   "execution_count": null,
   "metadata": {
    "collapsed": true
   },
   "outputs": [],
   "source": []
  },
  {
   "cell_type": "code",
   "execution_count": 5,
   "metadata": {
    "collapsed": false
   },
   "outputs": [],
   "source": [
    "import pandas as pd\n",
    "\n",
    "df = pd.DataFrame(items)"
   ]
  },
  {
   "cell_type": "code",
   "execution_count": 6,
   "metadata": {
    "collapsed": false
   },
   "outputs": [
    {
     "data": {
      "text/html": [
       "<div>\n",
       "<table border=\"1\" class=\"dataframe\">\n",
       "  <thead>\n",
       "    <tr style=\"text-align: right;\">\n",
       "      <th></th>\n",
       "      <th>details</th>\n",
       "      <th>location</th>\n",
       "    </tr>\n",
       "  </thead>\n",
       "  <tbody>\n",
       "    <tr>\n",
       "      <th>0</th>\n",
       "      <td>The Minaret of Jam is a UNESCO World Heritage ...</td>\n",
       "      <td>Jam Minaret Afghanistan</td>\n",
       "    </tr>\n",
       "    <tr>\n",
       "      <th>1</th>\n",
       "      <td>Kabul (/kbl/; Pashto: , Persian: , pronounced ...</td>\n",
       "      <td>Kabul Old City Afghanistan</td>\n",
       "    </tr>\n",
       "    <tr>\n",
       "      <th>2</th>\n",
       "      <td>The Khyber Pass (Pashto:   , Urdu:  ) (elevati...</td>\n",
       "      <td>Khyber Pass  [with Pakistan] Afghanistan</td>\n",
       "    </tr>\n",
       "    <tr>\n",
       "      <th>3</th>\n",
       "      <td>Beni Hammad Fort, also called Al Qal'a of Beni...</td>\n",
       "      <td>Al Qal'a of Beni Hammad Algeria</td>\n",
       "    </tr>\n",
       "    <tr>\n",
       "      <th>4</th>\n",
       "      <td>The Casbah (Arabic: , qaba, meaning citadel (f...</td>\n",
       "      <td>Algiers Kasbah Algeria</td>\n",
       "    </tr>\n",
       "  </tbody>\n",
       "</table>\n",
       "</div>"
      ],
      "text/plain": [
       "                                             details  \\\n",
       "0  The Minaret of Jam is a UNESCO World Heritage ...   \n",
       "1  Kabul (/kbl/; Pashto: , Persian: , pronounced ...   \n",
       "2  The Khyber Pass (Pashto:   , Urdu:  ) (elevati...   \n",
       "3  Beni Hammad Fort, also called Al Qal'a of Beni...   \n",
       "4  The Casbah (Arabic: , qaba, meaning citadel (f...   \n",
       "\n",
       "                                   location  \n",
       "0                   Jam Minaret Afghanistan  \n",
       "1                Kabul Old City Afghanistan  \n",
       "2  Khyber Pass  [with Pakistan] Afghanistan  \n",
       "3           Al Qal'a of Beni Hammad Algeria  \n",
       "4                    Algiers Kasbah Algeria  "
      ]
     },
     "execution_count": 6,
     "metadata": {},
     "output_type": "execute_result"
    }
   ],
   "source": [
    "df.head()"
   ]
  },
  {
   "cell_type": "code",
   "execution_count": 7,
   "metadata": {
    "collapsed": false
   },
   "outputs": [
    {
     "data": {
      "text/plain": [
       "u'The Cabot Trail is a highway and scenic roadway in northern Victoria County and Inverness County on Cape Breton Island in Nova Scotia, Canada. The route measures 298 km (185 mi) in length and completes a loop around the northern tip of the island, passing along and through the scenic Cape Breton Highlands. It is named after the explorer John Cabot who landed in Atlantic Canada in 1497, although most historians agree his landfall likely took place in Newfoundland and not Cape Breton Island. (Premier Angus L. MacDonald attempted to re-brand Nova Scotia for tourism purposes as primarily Scottish and, as part of this effort, created both the names Cape Breton Highlands and Cabot Trail.) Construction of the initial route was completed in 1932. Its northern section of the Cabot Trail passes through Cape Breton Highlands National Park. The western and eastern sections follow the rugged coastline, providing spectacular views of the ocean. The southwestern section passes through the Margaree River valley before passing along Bras d\\'Or Lake. This trail is the only trunk secondary highway in Nova Scotia which does not have a signed route designation. Road signs along the route instead have a unique mountain logo. The road is internally referred to by the Department of Transportation and Public Works as Trunk 30. The Trunk 30 road named the \"Cabot Trail\" loops from Exit 7 on Nova Scotia Highway 105 at Buckwheat Corner to Exit 11 on Highway 105 at South Haven. The scenic travelway known as the \"Cabot Trail\" includes all of Trunk 30, as well as the portion of Highway 105 between exits 7 and 11. The entire route is open year-round.'"
      ]
     },
     "execution_count": 7,
     "metadata": {},
     "output_type": "execute_result"
    }
   ],
   "source": [
    "df.loc[134, 'details']"
   ]
  },
  {
   "cell_type": "code",
   "execution_count": 8,
   "metadata": {
    "collapsed": false
   },
   "outputs": [],
   "source": [
    "df.to_csv('destinations.csv',encoding='utf-8')"
   ]
  },
  {
   "cell_type": "code",
   "execution_count": null,
   "metadata": {
    "collapsed": true
   },
   "outputs": [],
   "source": []
  }
 ],
 "metadata": {
  "anaconda-cloud": {},
  "kernelspec": {
   "display_name": "Python [Root]",
   "language": "python",
   "name": "Python [Root]"
  },
  "language_info": {
   "codemirror_mode": {
    "name": "ipython",
    "version": 2
   },
   "file_extension": ".py",
   "mimetype": "text/x-python",
   "name": "python",
   "nbconvert_exporter": "python",
   "pygments_lexer": "ipython2",
   "version": "2.7.12"
  }
 },
 "nbformat": 4,
 "nbformat_minor": 0
}
